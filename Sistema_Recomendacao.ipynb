{
 "cells": [
  {
   "cell_type": "code",
   "execution_count": 71,
   "id": "5863e8cf-cc35-4a57-ad43-d1b4a06eafa0",
   "metadata": {},
   "outputs": [],
   "source": [
    "#Importando bibliotecas\n",
    "#Pandas é uma biblioteca para análise de dados em Python\n",
    "#pyspark.sql.functions: É um módulo do PySpark que contém diversas funções para manipulação de dados em DataFrames.\n",
    "#: Spark context  permite configurar e conectar-se a um cluster do Sparkrk, o SparkContext é necessário para criar uma sessão do Spark e trabalhar com RDDs\n",
    "import pandas as pd\n",
    "from pyspark.sql.functions import col, explode, sum\n",
    "from pyspark import SparkContext"
   ]
  },
  {
   "cell_type": "code",
   "execution_count": 8,
   "id": "71ba85d5-d9fa-48e7-b678-d6859f85d9e2",
   "metadata": {},
   "outputs": [],
   "source": [
    "#Iniciando a sessão no spark\n",
    "from pyspark.sql import SparkSession\n",
    "sc = SparkContext\n",
    "spark = SparkSession.builder.appName('Recomendacoes').getOrCreate()"
   ]
  },
  {
   "cell_type": "code",
   "execution_count": 10,
   "id": "41918bba-19b5-4e8d-9cc1-ade1e21c1354",
   "metadata": {},
   "outputs": [],
   "source": [
    "#Carregando os conjuntos de dados pela função do spark para ler arquivos csv\n",
    "movies = spark.read.csv(\"C:/Users/Dell/Desktop/filmes.csv\",header=True)\n",
    "ratings = spark.read.csv(\"C:/Users/Dell/Desktop/notas.csv\",header=True)"
   ]
  },
  {
   "cell_type": "markdown",
   "id": "d26b043d-0d76-4a7d-8f50-c7661a7d1a44",
   "metadata": {},
   "source": [
    "<H2>Analise exploratoria</H2>"
   ]
  },
  {
   "cell_type": "code",
   "execution_count": 12,
   "id": "a5c492a9-62e8-4174-94ed-d6ca34542bbf",
   "metadata": {},
   "outputs": [
    {
     "name": "stdout",
     "output_type": "stream",
     "text": [
      "+-------+--------------------+--------------------+\n",
      "|movieId|               title|              genres|\n",
      "+-------+--------------------+--------------------+\n",
      "|      1|    Toy Story (1995)|Adventure|Animati...|\n",
      "|      2|      Jumanji (1995)|Adventure|Childre...|\n",
      "|      3|Grumpier Old Men ...|      Comedy|Romance|\n",
      "|      4|Waiting to Exhale...|Comedy|Drama|Romance|\n",
      "|      5|Father of the Bri...|              Comedy|\n",
      "|      6|         Heat (1995)|Action|Crime|Thri...|\n",
      "|      7|      Sabrina (1995)|      Comedy|Romance|\n",
      "|      8| Tom and Huck (1995)|  Adventure|Children|\n",
      "|      9| Sudden Death (1995)|              Action|\n",
      "|     10|    GoldenEye (1995)|Action|Adventure|...|\n",
      "|     11|American Presiden...|Comedy|Drama|Romance|\n",
      "|     12|Dracula: Dead and...|       Comedy|Horror|\n",
      "|     13|        Balto (1995)|Adventure|Animati...|\n",
      "|     14|        Nixon (1995)|               Drama|\n",
      "|     15|Cutthroat Island ...|Action|Adventure|...|\n",
      "|     16|       Casino (1995)|         Crime|Drama|\n",
      "|     17|Sense and Sensibi...|       Drama|Romance|\n",
      "|     18|   Four Rooms (1995)|              Comedy|\n",
      "|     19|Ace Ventura: When...|              Comedy|\n",
      "|     20|  Money Train (1995)|Action|Comedy|Cri...|\n",
      "+-------+--------------------+--------------------+\n",
      "only showing top 20 rows\n",
      "\n"
     ]
    }
   ],
   "source": [
    "#Visualizando o conjunto de dados dos filmes\n",
    "movies.show()"
   ]
  },
  {
   "cell_type": "code",
   "execution_count": 17,
   "id": "50e3ab80-9bc6-4a41-a5a3-f3df74d6d03e",
   "metadata": {},
   "outputs": [
    {
     "name": "stdout",
     "output_type": "stream",
     "text": [
      "+------+-------+------+---------+\n",
      "|userId|movieId|rating|timestamp|\n",
      "+------+-------+------+---------+\n",
      "|     1|      1|   4.0|964982703|\n",
      "|     1|      3|   4.0|964981247|\n",
      "|     1|      6|   4.0|964982224|\n",
      "|     1|     47|   5.0|964983815|\n",
      "|     1|     50|   5.0|964982931|\n",
      "|     1|     70|   3.0|964982400|\n",
      "|     1|    101|   5.0|964980868|\n",
      "|     1|    110|   4.0|964982176|\n",
      "|     1|    151|   5.0|964984041|\n",
      "|     1|    157|   5.0|964984100|\n",
      "|     1|    163|   5.0|964983650|\n",
      "|     1|    216|   5.0|964981208|\n",
      "|     1|    223|   3.0|964980985|\n",
      "|     1|    231|   5.0|964981179|\n",
      "|     1|    235|   4.0|964980908|\n",
      "|     1|    260|   5.0|964981680|\n",
      "|     1|    296|   3.0|964982967|\n",
      "|     1|    316|   3.0|964982310|\n",
      "|     1|    333|   5.0|964981179|\n",
      "|     1|    349|   4.0|964982563|\n",
      "+------+-------+------+---------+\n",
      "only showing top 20 rows\n",
      "\n"
     ]
    }
   ],
   "source": [
    "ratings.show()"
   ]
  },
  {
   "cell_type": "code",
   "execution_count": 19,
   "id": "27115269-fdae-4890-b27a-96b625a28f92",
   "metadata": {},
   "outputs": [
    {
     "name": "stdout",
     "output_type": "stream",
     "text": [
      "root\n",
      " |-- movieId: string (nullable = true)\n",
      " |-- title: string (nullable = true)\n",
      " |-- genres: string (nullable = true)\n",
      "\n"
     ]
    }
   ],
   "source": [
    "#Analise o tipo dos dados das variaveis\n",
    "movies.printSchema()"
   ]
  },
  {
   "cell_type": "code",
   "execution_count": 21,
   "id": "99e2295f-c27d-47f0-925a-2731041be915",
   "metadata": {},
   "outputs": [
    {
     "name": "stdout",
     "output_type": "stream",
     "text": [
      "root\n",
      " |-- userId: string (nullable = true)\n",
      " |-- movieId: string (nullable = true)\n",
      " |-- rating: string (nullable = true)\n",
      " |-- timestamp: string (nullable = true)\n",
      "\n"
     ]
    }
   ],
   "source": [
    "#Analise o tipo dos dados das variaveis\n",
    "ratings.printSchema()"
   ]
  },
  {
   "cell_type": "code",
   "execution_count": 29,
   "id": "105f472f-1144-4872-9aeb-2a0c1e3794e5",
   "metadata": {},
   "outputs": [
    {
     "name": "stdout",
     "output_type": "stream",
     "text": [
      "a quantidade de linhas do dataset ratings é 100836 , e a quantidade de linhas do dataset de filmes é  9742\n"
     ]
    }
   ],
   "source": [
    "#Vendo a quantidade de linhas dos dois conjuntos de dados\n",
    "print(f'a quantidade de linhas do dataset ratings é {ratings.count()} , e a quantidade de linhas do dataset de filmes é  {movies.count()}')\n"
   ]
  },
  {
   "cell_type": "code",
   "execution_count": 33,
   "id": "17010a49-9389-4aa8-80a0-b4e0c78289c1",
   "metadata": {},
   "outputs": [
    {
     "name": "stdout",
     "output_type": "stream",
     "text": [
      "o dataset ratings possui 3 colunas, e o dataset filmes possui 3\n"
     ]
    }
   ],
   "source": [
    "#Vendo a quantidade de colunas dos dois conjuntos de dados\n",
    "print(f'o dataset ratings possui {len(ratings.columns)} colunas, e o dataset filmes possui {len(movies.columns) }')"
   ]
  },
  {
   "cell_type": "code",
   "execution_count": 23,
   "id": "03cfd823-afa1-454e-8503-35df7fee0375",
   "metadata": {},
   "outputs": [
    {
     "name": "stdout",
     "output_type": "stream",
     "text": [
      "+------+-------+------+\n",
      "|userId|movieId|rating|\n",
      "+------+-------+------+\n",
      "|     1|      1|   4.0|\n",
      "|     1|      3|   4.0|\n",
      "|     1|      6|   4.0|\n",
      "|     1|     47|   5.0|\n",
      "|     1|     50|   5.0|\n",
      "|     1|     70|   3.0|\n",
      "|     1|    101|   5.0|\n",
      "|     1|    110|   4.0|\n",
      "|     1|    151|   5.0|\n",
      "|     1|    157|   5.0|\n",
      "|     1|    163|   5.0|\n",
      "|     1|    216|   5.0|\n",
      "|     1|    223|   3.0|\n",
      "|     1|    231|   5.0|\n",
      "|     1|    235|   4.0|\n",
      "|     1|    260|   5.0|\n",
      "|     1|    296|   3.0|\n",
      "|     1|    316|   3.0|\n",
      "|     1|    333|   5.0|\n",
      "|     1|    349|   4.0|\n",
      "+------+-------+------+\n",
      "only showing top 20 rows\n",
      "\n"
     ]
    }
   ],
   "source": [
    "#Vemos que algumas variaveis do dataset ratings não estão no formato correto, para realizar esse ajuste iremos realizar um casting nos dados e também\n",
    "#Iremos deletar a coluna \"timestamp\" pois não iremos necessitar dela \n",
    "\n",
    "ratings = ratings.\\\n",
    "    withColumn('userId', col('userId').cast('integer')).\\\n",
    "    withColumn('movieId', col('movieId').cast('integer')).\\\n",
    "    withColumn('rating', col('rating').cast('float')).\\\n",
    "    drop('timestamp')\n",
    "ratings.show()"
   ]
  },
  {
   "cell_type": "code",
   "execution_count": 63,
   "id": "35dd9e31-d724-4634-a1de-363bfb785a99",
   "metadata": {},
   "outputs": [
    {
     "name": "stdout",
     "output_type": "stream",
     "text": [
      "o número de usuários distintos é 610 , o número de filmes distintos é 9724\n"
     ]
    }
   ],
   "source": [
    "# Contando o número de userIds distintos e movieIds distintos\n",
    "num_users = ratings.select(\"userId\").distinct().count()\n",
    "num_movies = ratings.select(\"movieId\").distinct().count()\n",
    "\n",
    "print(f'o número de usuários distintos é {num_users} , o número de filmes distintos é {num_movies}')"
   ]
  },
  {
   "cell_type": "code",
   "execution_count": 61,
   "id": "71afe8ba-11cd-472c-9545-2d57a8ccd649",
   "metadata": {},
   "outputs": [
    {
     "data": {
      "text/plain": [
       "5931640"
      ]
     },
     "execution_count": 61,
     "metadata": {},
     "output_type": "execute_result"
    }
   ],
   "source": [
    "# Definindo o denominador igual ao número de usuários multiplicado pelo número de filmes\n",
    "denominador = num_users * num_movies\n",
    "denominador"
   ]
  },
  {
   "cell_type": "code",
   "execution_count": 65,
   "id": "5cbef8f2-7516-41d7-b883-4a7e313dd15f",
   "metadata": {},
   "outputs": [
    {
     "name": "stdout",
     "output_type": "stream",
     "text": [
      "O dataframe Ratings é  98.30% vazio.\n"
     ]
    }
   ],
   "source": [
    "#Calculando a esparsidade dos dados do dataset ratings, é nesse dataset que vamos aplicar o algoritmo de machine learning\n",
    "#Esparsidade em análise de dados refere-se à proporção de valores nulos ou zero em um conjunto de dados\n",
    "#Se a esparsidade for próxima de 1, significa que a matriz tem muitos valores zero (ou nulos) e é altamente esparsa.\n",
    "\n",
    "# Contando o número de userIds distintos e movieIds distintos\n",
    "esparsidade = (1.0 - (numerator *1.0)/denominator)*100\n",
    "print(\"O dataframe Ratings é \", \"%.2f\" % esparsidade + \"% vazio.\")"
   ]
  },
  {
   "cell_type": "code",
   "execution_count": 81,
   "id": "9b371c62-c1e9-4fda-bef0-433058726847",
   "metadata": {},
   "outputs": [
    {
     "name": "stdout",
     "output_type": "stream",
     "text": [
      "+------+-------+------+\n",
      "|userId|movieId|rating|\n",
      "+------+-------+------+\n",
      "|     0|      0|     0|\n",
      "+------+-------+------+\n",
      "\n"
     ]
    }
   ],
   "source": [
    "#Calculando a quantidade de valores null nos dataset ratings\n",
    "null_ratings = ratings.select([sum(col(c).isNull().cast(\"int\")).alias(c) for c in ratings.columns])\n",
    "null_ratings.show()"
   ]
  },
  {
   "cell_type": "code",
   "execution_count": 85,
   "id": "077a8870-446a-49ae-a54f-d1b9ee6fd147",
   "metadata": {},
   "outputs": [
    {
     "name": "stdout",
     "output_type": "stream",
     "text": [
      "+-------+-----+------+\n",
      "|movieId|title|genres|\n",
      "+-------+-----+------+\n",
      "|      0|    0|     0|\n",
      "+-------+-----+------+\n",
      "\n"
     ]
    }
   ],
   "source": [
    "#Calculando a quantidade de valores null nos dataset ratings\n",
    "null_movies = movies.select([sum(col(c).isNull().cast(\"int\")).alias(c) for c in movies.columns])\n",
    "null_movies.show()"
   ]
  },
  {
   "cell_type": "code",
   "execution_count": 87,
   "id": "9dca14dc-e400-4cbd-b467-8ff72bcf4929",
   "metadata": {},
   "outputs": [
    {
     "name": "stdout",
     "output_type": "stream",
     "text": [
      "+------+-----+\n",
      "|userId|count|\n",
      "+------+-----+\n",
      "|   414| 2698|\n",
      "|   599| 2478|\n",
      "|   474| 2108|\n",
      "|   448| 1864|\n",
      "|   274| 1346|\n",
      "|   610| 1302|\n",
      "|    68| 1260|\n",
      "|   380| 1218|\n",
      "|   606| 1115|\n",
      "|   288| 1055|\n",
      "|   249| 1046|\n",
      "|   387| 1027|\n",
      "|   182|  977|\n",
      "|   307|  975|\n",
      "|   603|  943|\n",
      "|   298|  939|\n",
      "|   177|  904|\n",
      "|   318|  879|\n",
      "|   232|  862|\n",
      "|   480|  836|\n",
      "+------+-----+\n",
      "only showing top 20 rows\n",
      "\n"
     ]
    }
   ],
   "source": [
    "#Agrupando dados por userId, contando por ratings\n",
    "userId_ratings = ratings.groupBy(\"userId\").count().orderBy('count', ascending=False)\n",
    "userId_ratings.show()"
   ]
  },
  {
   "cell_type": "code",
   "execution_count": 89,
   "id": "ff7ae443-521d-4bbc-910c-2c6edd9bf6d9",
   "metadata": {},
   "outputs": [
    {
     "name": "stdout",
     "output_type": "stream",
     "text": [
      "+-------+-----+\n",
      "|movieId|count|\n",
      "+-------+-----+\n",
      "|    356|  329|\n",
      "|    318|  317|\n",
      "|    296|  307|\n",
      "|    593|  279|\n",
      "|   2571|  278|\n",
      "|    260|  251|\n",
      "|    480|  238|\n",
      "|    110|  237|\n",
      "|    589|  224|\n",
      "|    527|  220|\n",
      "|   2959|  218|\n",
      "|      1|  215|\n",
      "|   1196|  211|\n",
      "|     50|  204|\n",
      "|   2858|  204|\n",
      "|     47|  203|\n",
      "|    780|  202|\n",
      "|    150|  201|\n",
      "|   1198|  200|\n",
      "|   4993|  198|\n",
      "+-------+-----+\n",
      "only showing top 20 rows\n",
      "\n"
     ]
    }
   ],
   "source": [
    "#Agrupando dados por userId, contando por ratings\n",
    "movieId_ratings = ratings.groupBy(\"movieId\").count().orderBy('count', ascending=False)\n",
    "movieId_ratings.show()"
   ]
  },
  {
   "cell_type": "markdown",
   "id": "d8f22de7-dd13-4e72-b26d-c2ee07263067",
   "metadata": {},
   "source": [
    "<H2>Construindo o modelo de Recomendação</H2>"
   ]
  },
  {
   "cell_type": "code",
   "execution_count": 92,
   "id": "4d4615d7-7645-4680-8bc6-89dc6005ae96",
   "metadata": {},
   "outputs": [],
   "source": [
    "# Importação de bibliotecas para criar os algoritmos\n",
    "from pyspark.ml.evaluation import RegressionEvaluator\n",
    "from pyspark.ml.recommendation import ALS\n",
    "from pyspark.ml.tuning import ParamGridBuilder, CrossValidator"
   ]
  },
  {
   "cell_type": "code",
   "execution_count": 96,
   "id": "0ab11479-a5e5-4df5-9bab-93f7081b94ac",
   "metadata": {},
   "outputs": [
    {
     "data": {
      "text/plain": [
       "pyspark.ml.recommendation.ALS"
      ]
     },
     "execution_count": 96,
     "metadata": {},
     "output_type": "execute_result"
    }
   ],
   "source": [
    "# Criando conjuntos de treino e teste\n",
    "(train, test) = ratings.randomSplit([0.8, 0.2], seed = 1234)\n",
    "\n",
    "# Criando o modelo de Recomendação\n",
    "als = ALS(userCol=\"userId\", itemCol=\"movieId\", ratingCol=\"rating\", nonnegative = True, implicitPrefs = False, coldStartStrategy=\"drop\")\n",
    "\n",
    "# Confirmando se o modelo foi criado\n",
    "type(als)"
   ]
  },
  {
   "cell_type": "markdown",
   "id": "3995723d-5f4e-40e1-ac16-b9e027b5d5bd",
   "metadata": {},
   "source": [
    "<H2>Ajustando o modelo</h2>"
   ]
  },
  {
   "cell_type": "code",
   "execution_count": 101,
   "id": "f98c63d1-d6d0-4af1-ad18-aa7eff65dbd9",
   "metadata": {},
   "outputs": [
    {
     "name": "stdout",
     "output_type": "stream",
     "text": [
      "Número de modelos a serem testados:  16\n"
     ]
    }
   ],
   "source": [
    "# Importando novas bibliotecas\n",
    "from pyspark.ml.evaluation import RegressionEvaluator\n",
    "from pyspark.ml.tuning import ParamGridBuilder, CrossValidator\n",
    "\n",
    "# Adicionando hiperparâmetros e seus respectivos valores em param_grid,para ajustes de hiperparâmetros do modelo ALS\n",
    "param_grid = ParamGridBuilder() \\\n",
    "            .addGrid(als.rank, [10, 50, 100, 150]) \\\n",
    "            .addGrid(als.regParam, [.01, .05, .1, .15]) \\\n",
    "            .build()\n",
    "            #             .addGrid(als.maxIter, [5, 50, 100, 200]) \\\n",
    "\n",
    "           \n",
    "# Defina o avaliador como RMSE e imprime o comprimento do avaliador\n",
    "evaluator = RegressionEvaluator(metricName=\"rmse\", labelCol=\"rating\", predictionCol=\"prediction\") \n",
    "print (\"Número de modelos a serem testados: \", len(param_grid))"
   ]
  },
  {
   "cell_type": "code",
   "execution_count": 103,
   "id": "4d82cec9-7ff7-4903-bac4-d558d3e83411",
   "metadata": {},
   "outputs": [
    {
     "name": "stdout",
     "output_type": "stream",
     "text": [
      "CrossValidator_5e18caa8f5a4\n"
     ]
    }
   ],
   "source": [
    "#Criando o pipeline de validação cruzada\n",
    "cv = CrossValidator(estimator=als, estimatorParamMaps=param_grid, evaluator=evaluator, numFolds=5)\n",
    "\n",
    "# Confirm cv was built\n",
    "print(cv)"
   ]
  },
  {
   "cell_type": "code",
   "execution_count": 105,
   "id": "9e30ec81-ee7c-44fa-bc36-1bd1c82017bf",
   "metadata": {},
   "outputs": [],
   "source": [
    "#Treinando o modelo de validação cruzada\n",
    "model = cv.fit(train)\n",
    "\n",
    "#retornando o melhor modelo que foi ajustado durante o processo de validação cruzada\n",
    "best_model = model.bestModel"
   ]
  },
  {
   "cell_type": "code",
   "execution_count": 106,
   "id": "aaf0d0cd-40fa-44c5-9993-4a22e348e72c",
   "metadata": {},
   "outputs": [
    {
     "name": "stdout",
     "output_type": "stream",
     "text": [
      "<class 'pyspark.ml.recommendation.ALSModel'>\n",
      "**Best Model**\n",
      "  Rank: 150\n",
      "  MaxIter: 10\n",
      "  RegParam: 0.15\n"
     ]
    }
   ],
   "source": [
    "# Print melhor modelo\n",
    "print(type(best_model))\n",
    "\n",
    "\n",
    "print(\"**Best Model**\")\n",
    "\n",
    "# # Print \"Rank\" número de fatores latentes no modelo ALS.\n",
    "print(\"  Rank:\", best_model._java_obj.parent().getRank())\n",
    "\n",
    "# Print \"MaxIter\" número máximo de iterações que o modelo ALS faz durante o treinamento\n",
    "print(\"  MaxIter:\", best_model._java_obj.parent().getMaxIter())\n",
    "\n",
    "# Print \"RegParam\" controla a penalização para evitar overfitting\n",
    "print(\"  RegParam:\", best_model._java_obj.parent().getRegParam())"
   ]
  },
  {
   "cell_type": "code",
   "execution_count": 110,
   "id": "2fb56328-92f3-42c2-9b53-7f5a4b220fd9",
   "metadata": {},
   "outputs": [
    {
     "name": "stdout",
     "output_type": "stream",
     "text": [
      "0.8689288255111681\n"
     ]
    }
   ],
   "source": [
    "# Vendo as predições\n",
    "test_predictions = best_model.transform(test)\n",
    "RMSE = evaluator.evaluate(test_predictions)\n",
    "print(RMSE)"
   ]
  },
  {
   "cell_type": "code",
   "execution_count": 111,
   "id": "411ce524-b4f7-41e0-b96b-5c1557e00bad",
   "metadata": {},
   "outputs": [
    {
     "name": "stdout",
     "output_type": "stream",
     "text": [
      "+------+-------+------+----------+\n",
      "|userId|movieId|rating|prediction|\n",
      "+------+-------+------+----------+\n",
      "|   580|   1580|   4.0| 3.4556541|\n",
      "|   580|  44022|   3.5| 3.2440484|\n",
      "|   597|    471|   2.0|  4.199578|\n",
      "|   108|   1959|   5.0| 3.8372588|\n",
      "|   368|   2122|   2.0| 1.8555024|\n",
      "|   436|    471|   3.0| 3.6066322|\n",
      "|   587|   1580|   4.0| 3.8765278|\n",
      "|    27|   1580|   3.0|  3.344146|\n",
      "|   606|   1580|   2.5| 3.1791172|\n",
      "|   606|  44022|   4.0| 2.8043003|\n",
      "|    91|   2122|   4.0| 2.3345869|\n",
      "|   157|   3175|   2.0| 3.4112093|\n",
      "|   232|   1580|   3.5|  3.370875|\n",
      "|   232|  44022|   3.0| 3.1538184|\n",
      "|   246|   1645|   4.0| 3.7365985|\n",
      "|   599|   2366|   3.0| 2.9035661|\n",
      "|   111|   1088|   3.0| 3.2689178|\n",
      "|   111|   3175|   3.5| 3.0905557|\n",
      "|    47|   1580|   1.5| 2.6785266|\n",
      "|   140|   1580|   3.0|  3.371964|\n",
      "+------+-------+------+----------+\n",
      "only showing top 20 rows\n",
      "\n"
     ]
    }
   ],
   "source": [
    "test_predictions.show()"
   ]
  },
  {
   "cell_type": "markdown",
   "id": "c8052969-fc93-427c-ba75-42763c454555",
   "metadata": {},
   "source": [
    "<h2>Fazendo recomendações</h2>"
   ]
  },
  {
   "cell_type": "code",
   "execution_count": 114,
   "id": "4a0e4a1e-fe00-4d1d-ba26-fd0b3d0c6d3a",
   "metadata": {},
   "outputs": [
    {
     "name": "stdout",
     "output_type": "stream",
     "text": [
      "+------+--------------------+\n",
      "|userId|     recommendations|\n",
      "+------+--------------------+\n",
      "|     1|[{3379, 5.697951}...|\n",
      "|     2|[{131724, 4.79383...|\n",
      "|     3|[{6835, 4.8520045...|\n",
      "|     4|[{3851, 4.848169}...|\n",
      "|     5|[{5490, 4.545368}...|\n",
      "|     6|[{42730, 4.717121...|\n",
      "|     7|[{33649, 4.406992...|\n",
      "|     8|[{3379, 4.6708913...|\n",
      "|     9|[{5490, 4.837154}...|\n",
      "|    10|[{71579, 4.533971...|\n",
      "+------+--------------------+\n",
      "\n"
     ]
    }
   ],
   "source": [
    "# Gerando n recomendações para todos os usuários\n",
    "nrecommendations = best_model.recommendForAllUsers(10)\n",
    "nrecommendations.limit(10).show()"
   ]
  },
  {
   "cell_type": "code",
   "execution_count": 115,
   "id": "ca5b16e8-87ed-4d7a-b5fd-76c4c58de14b",
   "metadata": {},
   "outputs": [
    {
     "name": "stdout",
     "output_type": "stream",
     "text": [
      "+------+-------+---------+\n",
      "|userId|movieId|   rating|\n",
      "+------+-------+---------+\n",
      "|     1|   3379| 5.697951|\n",
      "|     1|  33649|5.5743775|\n",
      "|     1|   5490|  5.53618|\n",
      "|     1| 171495| 5.405559|\n",
      "|     1|   5915| 5.395145|\n",
      "|     1|   5416|5.3816915|\n",
      "|     1|   5328|5.3816915|\n",
      "|     1|   3951|5.3816915|\n",
      "|     1|  78836| 5.357355|\n",
      "|     1| 184245| 5.302923|\n",
      "+------+-------+---------+\n",
      "\n"
     ]
    }
   ],
   "source": [
    "nrecommendations = nrecommendations\\\n",
    "    .withColumn(\"rec_exp\", explode(\"recommendations\"))\\\n",
    "    .select('userId', col(\"rec_exp.movieId\"), col(\"rec_exp.rating\"))\n",
    "\n",
    "nrecommendations.limit(10).show()"
   ]
  },
  {
   "cell_type": "code",
   "execution_count": 116,
   "id": "6bc72064-28e2-4168-acb8-c511f3b0153a",
   "metadata": {},
   "outputs": [
    {
     "name": "stdout",
     "output_type": "stream",
     "text": [
      "+-------+------+---------+--------------------+--------------------+\n",
      "|movieId|userId|   rating|               title|              genres|\n",
      "+-------+------+---------+--------------------+--------------------+\n",
      "|  67618|   100|5.1082697|Strictly Sexual (...|Comedy|Drama|Romance|\n",
      "|  33649|   100| 4.990537|  Saving Face (2004)|Comedy|Drama|Romance|\n",
      "|   3379|   100| 4.986049| On the Beach (1959)|               Drama|\n",
      "|  74282|   100|4.8992786|Anne of Green Gab...|Children|Drama|Ro...|\n",
      "| 184245|   100|4.8964562|De platte jungle ...|         Documentary|\n",
      "| 179135|   100|4.8964562|Blue Planet II (2...|         Documentary|\n",
      "| 138966|   100|4.8964562|Nasu: Summer in A...|           Animation|\n",
      "| 117531|   100|4.8964562|    Watermark (2014)|         Documentary|\n",
      "|  86237|   100|4.8964562|  Connections (1978)|         Documentary|\n",
      "|  84273|   100|4.8964562|Zeitgeist: Moving...|         Documentary|\n",
      "+-------+------+---------+--------------------+--------------------+\n",
      "\n"
     ]
    }
   ],
   "source": [
    "#Mesclando o nome e os gêneros do filme à matriz de recomendação ver se está fazendo sentido as recomendações:\n",
    "nrecommendations.join(movies, on='movieId').filter('userId = 100').show()"
   ]
  },
  {
   "cell_type": "code",
   "execution_count": 118,
   "id": "6e7fe811-1169-4967-9bb4-e954f54ad50d",
   "metadata": {},
   "outputs": [
    {
     "name": "stdout",
     "output_type": "stream",
     "text": [
      "+-------+------+------+--------------------+--------------------+\n",
      "|movieId|userId|rating|               title|              genres|\n",
      "+-------+------+------+--------------------+--------------------+\n",
      "|   1101|   100|   5.0|      Top Gun (1986)|      Action|Romance|\n",
      "|   1958|   100|   5.0|Terms of Endearme...|        Comedy|Drama|\n",
      "|   2423|   100|   5.0|Christmas Vacatio...|              Comedy|\n",
      "|   4041|   100|   5.0|Officer and a Gen...|       Drama|Romance|\n",
      "|   5620|   100|   5.0|Sweet Home Alabam...|      Comedy|Romance|\n",
      "|    368|   100|   4.5|     Maverick (1994)|Adventure|Comedy|...|\n",
      "|    934|   100|   4.5|Father of the Bri...|              Comedy|\n",
      "|    539|   100|   4.5|Sleepless in Seat...|Comedy|Drama|Romance|\n",
      "|     16|   100|   4.5|       Casino (1995)|         Crime|Drama|\n",
      "|    553|   100|   4.5|    Tombstone (1993)|Action|Drama|Western|\n",
      "+-------+------+------+--------------------+--------------------+\n",
      "\n"
     ]
    }
   ],
   "source": [
    "ratings.join(movies, on='movieId').filter('userId = 100').sort('rating', ascending=False).limit(10).show()"
   ]
  }
 ],
 "metadata": {
  "kernelspec": {
   "display_name": "Python 3 (ipykernel)",
   "language": "python",
   "name": "python3"
  },
  "language_info": {
   "codemirror_mode": {
    "name": "ipython",
    "version": 3
   },
   "file_extension": ".py",
   "mimetype": "text/x-python",
   "name": "python",
   "nbconvert_exporter": "python",
   "pygments_lexer": "ipython3",
   "version": "3.11.8"
  }
 },
 "nbformat": 4,
 "nbformat_minor": 5
}
